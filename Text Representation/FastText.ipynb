{
 "cells": [
  {
   "cell_type": "code",
   "execution_count": 2,
   "metadata": {},
   "outputs": [
    {
     "name": "stdout",
     "output_type": "stream",
     "text": [
      "Most similar words to 'computer': [('user', 0.15659412741661072), ('response', 0.12383826076984406), ('eps', 0.030704928562045097), ('system', 0.02557387761771679), ('interface', 0.005858751013875008), ('survey', -0.03156975656747818), ('minors', -0.05455649271607399), ('human', -0.0668589174747467), ('time', -0.06855936348438263), ('trees', -0.10636082291603088)]\n"
     ]
    }
   ],
   "source": [
    "# Implementation of FastText using gensim library\n",
    "\n",
    "from gensim.models import FastText\n",
    "from gensim.test.utils import common_texts\n",
    "\n",
    "corpus = common_texts\n",
    "\n",
    "model = FastText(sentences = corpus , vector_size = 100 , window = 5 , \n",
    "                 min_count = 1 , workers = 4 , sg =1)\n",
    "\n",
    "\n",
    "word_embedding = model.wv['computer']\n",
    "\n",
    "similar_words = model.wv.most_similar('computer')\n",
    "\n",
    "print(\"Most similar words to 'computer':\" , similar_words)"
   ]
  }
 ],
 "metadata": {
  "kernelspec": {
   "display_name": "Python 3",
   "language": "python",
   "name": "python3"
  },
  "language_info": {
   "codemirror_mode": {
    "name": "ipython",
    "version": 3
   },
   "file_extension": ".py",
   "mimetype": "text/x-python",
   "name": "python",
   "nbconvert_exporter": "python",
   "pygments_lexer": "ipython3",
   "version": "3.12.5"
  }
 },
 "nbformat": 4,
 "nbformat_minor": 2
}
