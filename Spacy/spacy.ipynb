{
 "cells": [
  {
   "cell_type": "code",
   "execution_count": 51,
   "metadata": {},
   "outputs": [
    {
     "name": "stdout",
     "output_type": "stream",
     "text": [
      "Requirement already satisfied: spacy in c:\\users\\chatt\\appdata\\local\\programs\\python\\python312\\lib\\site-packages (3.8.3)\n",
      "Requirement already satisfied: spacy-legacy<3.1.0,>=3.0.11 in c:\\users\\chatt\\appdata\\local\\programs\\python\\python312\\lib\\site-packages (from spacy) (3.0.12)\n",
      "Requirement already satisfied: spacy-loggers<2.0.0,>=1.0.0 in c:\\users\\chatt\\appdata\\local\\programs\\python\\python312\\lib\\site-packages (from spacy) (1.0.5)\n",
      "Requirement already satisfied: murmurhash<1.1.0,>=0.28.0 in c:\\users\\chatt\\appdata\\local\\programs\\python\\python312\\lib\\site-packages (from spacy) (1.0.11)\n",
      "Requirement already satisfied: cymem<2.1.0,>=2.0.2 in c:\\users\\chatt\\appdata\\local\\programs\\python\\python312\\lib\\site-packages (from spacy) (2.0.10)\n",
      "Requirement already satisfied: preshed<3.1.0,>=3.0.2 in c:\\users\\chatt\\appdata\\local\\programs\\python\\python312\\lib\\site-packages (from spacy) (3.0.9)\n",
      "Requirement already satisfied: thinc<8.4.0,>=8.3.0 in c:\\users\\chatt\\appdata\\local\\programs\\python\\python312\\lib\\site-packages (from spacy) (8.3.3)\n",
      "Requirement already satisfied: wasabi<1.2.0,>=0.9.1 in c:\\users\\chatt\\appdata\\local\\programs\\python\\python312\\lib\\site-packages (from spacy) (1.1.3)\n",
      "Requirement already satisfied: srsly<3.0.0,>=2.4.3 in c:\\users\\chatt\\appdata\\local\\programs\\python\\python312\\lib\\site-packages (from spacy) (2.5.0)\n",
      "Requirement already satisfied: catalogue<2.1.0,>=2.0.6 in c:\\users\\chatt\\appdata\\local\\programs\\python\\python312\\lib\\site-packages (from spacy) (2.0.10)\n",
      "Requirement already satisfied: weasel<0.5.0,>=0.1.0 in c:\\users\\chatt\\appdata\\local\\programs\\python\\python312\\lib\\site-packages (from spacy) (0.4.1)\n",
      "Requirement already satisfied: typer<1.0.0,>=0.3.0 in c:\\users\\chatt\\appdata\\local\\programs\\python\\python312\\lib\\site-packages (from spacy) (0.15.1)\n",
      "Requirement already satisfied: tqdm<5.0.0,>=4.38.0 in c:\\users\\chatt\\appdata\\local\\programs\\python\\python312\\lib\\site-packages (from spacy) (4.66.5)\n",
      "Requirement already satisfied: numpy>=1.19.0 in c:\\users\\chatt\\appdata\\local\\programs\\python\\python312\\lib\\site-packages (from spacy) (1.26.4)\n",
      "Requirement already satisfied: requests<3.0.0,>=2.13.0 in c:\\users\\chatt\\appdata\\local\\programs\\python\\python312\\lib\\site-packages (from spacy) (2.32.3)\n",
      "Requirement already satisfied: pydantic!=1.8,!=1.8.1,<3.0.0,>=1.7.4 in c:\\users\\chatt\\appdata\\local\\programs\\python\\python312\\lib\\site-packages (from spacy) (2.10.4)\n",
      "Requirement already satisfied: jinja2 in c:\\users\\chatt\\appdata\\local\\programs\\python\\python312\\lib\\site-packages (from spacy) (3.1.4)\n",
      "Requirement already satisfied: setuptools in c:\\users\\chatt\\appdata\\local\\programs\\python\\python312\\lib\\site-packages (from spacy) (74.1.0)\n",
      "Requirement already satisfied: packaging>=20.0 in c:\\users\\chatt\\appdata\\local\\programs\\python\\python312\\lib\\site-packages (from spacy) (24.1)\n",
      "Requirement already satisfied: langcodes<4.0.0,>=3.2.0 in c:\\users\\chatt\\appdata\\local\\programs\\python\\python312\\lib\\site-packages (from spacy) (3.5.0)\n",
      "Requirement already satisfied: language-data>=1.2 in c:\\users\\chatt\\appdata\\local\\programs\\python\\python312\\lib\\site-packages (from langcodes<4.0.0,>=3.2.0->spacy) (1.3.0)\n",
      "Requirement already satisfied: annotated-types>=0.6.0 in c:\\users\\chatt\\appdata\\local\\programs\\python\\python312\\lib\\site-packages (from pydantic!=1.8,!=1.8.1,<3.0.0,>=1.7.4->spacy) (0.7.0)\n",
      "Requirement already satisfied: pydantic-core==2.27.2 in c:\\users\\chatt\\appdata\\local\\programs\\python\\python312\\lib\\site-packages (from pydantic!=1.8,!=1.8.1,<3.0.0,>=1.7.4->spacy) (2.27.2)\n",
      "Requirement already satisfied: typing-extensions>=4.12.2 in c:\\users\\chatt\\appdata\\local\\programs\\python\\python312\\lib\\site-packages (from pydantic!=1.8,!=1.8.1,<3.0.0,>=1.7.4->spacy) (4.12.2)\n",
      "Requirement already satisfied: charset-normalizer<4,>=2 in c:\\users\\chatt\\appdata\\local\\programs\\python\\python312\\lib\\site-packages (from requests<3.0.0,>=2.13.0->spacy) (3.3.2)\n",
      "Requirement already satisfied: idna<4,>=2.5 in c:\\users\\chatt\\appdata\\local\\programs\\python\\python312\\lib\\site-packages (from requests<3.0.0,>=2.13.0->spacy) (3.8)\n",
      "Requirement already satisfied: urllib3<3,>=1.21.1 in c:\\users\\chatt\\appdata\\local\\programs\\python\\python312\\lib\\site-packages (from requests<3.0.0,>=2.13.0->spacy) (2.2.2)\n",
      "Requirement already satisfied: certifi>=2017.4.17 in c:\\users\\chatt\\appdata\\local\\programs\\python\\python312\\lib\\site-packages (from requests<3.0.0,>=2.13.0->spacy) (2024.8.30)\n",
      "Requirement already satisfied: blis<1.2.0,>=1.1.0 in c:\\users\\chatt\\appdata\\local\\programs\\python\\python312\\lib\\site-packages (from thinc<8.4.0,>=8.3.0->spacy) (1.1.0)\n",
      "Requirement already satisfied: confection<1.0.0,>=0.0.1 in c:\\users\\chatt\\appdata\\local\\programs\\python\\python312\\lib\\site-packages (from thinc<8.4.0,>=8.3.0->spacy) (0.1.5)\n",
      "Requirement already satisfied: colorama in c:\\users\\chatt\\appdata\\local\\programs\\python\\python312\\lib\\site-packages (from tqdm<5.0.0,>=4.38.0->spacy) (0.4.6)\n",
      "Requirement already satisfied: click>=8.0.0 in c:\\users\\chatt\\appdata\\local\\programs\\python\\python312\\lib\\site-packages (from typer<1.0.0,>=0.3.0->spacy) (8.1.7)\n",
      "Requirement already satisfied: shellingham>=1.3.0 in c:\\users\\chatt\\appdata\\local\\programs\\python\\python312\\lib\\site-packages (from typer<1.0.0,>=0.3.0->spacy) (1.5.4)\n",
      "Requirement already satisfied: rich>=10.11.0 in c:\\users\\chatt\\appdata\\local\\programs\\python\\python312\\lib\\site-packages (from typer<1.0.0,>=0.3.0->spacy) (13.8.1)\n",
      "Requirement already satisfied: cloudpathlib<1.0.0,>=0.7.0 in c:\\users\\chatt\\appdata\\local\\programs\\python\\python312\\lib\\site-packages (from weasel<0.5.0,>=0.1.0->spacy) (0.20.0)\n",
      "Requirement already satisfied: smart-open<8.0.0,>=5.2.1 in c:\\users\\chatt\\appdata\\local\\programs\\python\\python312\\lib\\site-packages (from weasel<0.5.0,>=0.1.0->spacy) (7.1.0)\n",
      "Requirement already satisfied: MarkupSafe>=2.0 in c:\\users\\chatt\\appdata\\local\\programs\\python\\python312\\lib\\site-packages (from jinja2->spacy) (2.1.5)\n",
      "Requirement already satisfied: marisa-trie>=1.1.0 in c:\\users\\chatt\\appdata\\local\\programs\\python\\python312\\lib\\site-packages (from language-data>=1.2->langcodes<4.0.0,>=3.2.0->spacy) (1.2.1)\n",
      "Requirement already satisfied: markdown-it-py>=2.2.0 in c:\\users\\chatt\\appdata\\local\\programs\\python\\python312\\lib\\site-packages (from rich>=10.11.0->typer<1.0.0,>=0.3.0->spacy) (3.0.0)\n",
      "Requirement already satisfied: pygments<3.0.0,>=2.13.0 in c:\\users\\chatt\\appdata\\local\\programs\\python\\python312\\lib\\site-packages (from rich>=10.11.0->typer<1.0.0,>=0.3.0->spacy) (2.18.0)\n",
      "Requirement already satisfied: wrapt in c:\\users\\chatt\\appdata\\local\\programs\\python\\python312\\lib\\site-packages (from smart-open<8.0.0,>=5.2.1->weasel<0.5.0,>=0.1.0->spacy) (1.16.0)\n",
      "Requirement already satisfied: mdurl~=0.1 in c:\\users\\chatt\\appdata\\local\\programs\\python\\python312\\lib\\site-packages (from markdown-it-py>=2.2.0->rich>=10.11.0->typer<1.0.0,>=0.3.0->spacy) (0.1.2)\n"
     ]
    }
   ],
   "source": [
    "! pip install spacy"
   ]
  },
  {
   "cell_type": "code",
   "execution_count": 52,
   "metadata": {},
   "outputs": [],
   "source": [
    "import spacy"
   ]
  },
  {
   "cell_type": "code",
   "execution_count": 53,
   "metadata": {},
   "outputs": [
    {
     "name": "stdout",
     "output_type": "stream",
     "text": [
      "Collecting en-core-web-lg==3.8.0\n",
      "  Downloading https://github.com/explosion/spacy-models/releases/download/en_core_web_lg-3.8.0/en_core_web_lg-3.8.0-py3-none-any.whl (400.7 MB)\n",
      "     ---------------------------------------- 0.0/400.7 MB ? eta -:--:--\n",
      "     ---------------------------------------- 0.0/400.7 MB ? eta -:--:--\n",
      "     ---------------------------------------- 0.3/400.7 MB ? eta -:--:--\n",
      "     ---------------------------------------- 0.3/400.7 MB ? eta -:--:--\n",
      "     -------------------------------------- 0.5/400.7 MB 882.6 kB/s eta 0:07:34\n",
      "     -------------------------------------- 0.8/400.7 MB 907.1 kB/s eta 0:07:21\n",
      "     ---------------------------------------- 1.0/400.7 MB 1.0 MB/s eta 0:06:30\n",
      "     ---------------------------------------- 1.6/400.7 MB 1.2 MB/s eta 0:05:43\n",
      "     ---------------------------------------- 1.8/400.7 MB 1.2 MB/s eta 0:05:25\n",
      "     ---------------------------------------- 2.1/400.7 MB 1.2 MB/s eta 0:05:20\n",
      "     ---------------------------------------- 2.6/400.7 MB 1.4 MB/s eta 0:04:53\n",
      "     ---------------------------------------- 3.1/400.7 MB 1.5 MB/s eta 0:04:34\n",
      "     ---------------------------------------- 3.7/400.7 MB 1.6 MB/s eta 0:04:12\n",
      "     ---------------------------------------- 4.7/400.7 MB 1.9 MB/s eta 0:03:33\n",
      "      --------------------------------------- 5.8/400.7 MB 2.1 MB/s eta 0:03:10\n",
      "      --------------------------------------- 6.6/400.7 MB 2.2 MB/s eta 0:02:57\n",
      "      --------------------------------------- 8.1/400.7 MB 2.6 MB/s eta 0:02:33\n",
      "      --------------------------------------- 9.4/400.7 MB 2.8 MB/s eta 0:02:19\n",
      "     - ------------------------------------- 10.5/400.7 MB 3.0 MB/s eta 0:02:10\n",
      "     - ------------------------------------- 11.8/400.7 MB 3.1 MB/s eta 0:02:04\n",
      "     - ------------------------------------- 13.4/400.7 MB 3.4 MB/s eta 0:01:55\n",
      "     - ------------------------------------- 14.2/400.7 MB 3.4 MB/s eta 0:01:54\n",
      "     - ------------------------------------- 15.7/400.7 MB 3.6 MB/s eta 0:01:48\n",
      "     - ------------------------------------- 17.0/400.7 MB 3.7 MB/s eta 0:01:44\n",
      "     - ------------------------------------- 18.6/400.7 MB 3.9 MB/s eta 0:01:39\n",
      "     -- ------------------------------------ 20.7/400.7 MB 4.1 MB/s eta 0:01:33\n",
      "     -- ------------------------------------ 22.0/400.7 MB 4.2 MB/s eta 0:01:31\n",
      "     -- ------------------------------------ 23.6/400.7 MB 4.3 MB/s eta 0:01:28\n",
      "     -- ------------------------------------ 24.9/400.7 MB 4.5 MB/s eta 0:01:25\n",
      "     -- ------------------------------------ 26.2/400.7 MB 4.5 MB/s eta 0:01:24\n",
      "     -- ------------------------------------ 28.0/400.7 MB 4.6 MB/s eta 0:01:21\n",
      "     -- ------------------------------------ 29.9/400.7 MB 4.7 MB/s eta 0:01:19\n",
      "     --- ----------------------------------- 31.2/400.7 MB 4.8 MB/s eta 0:01:18\n",
      "     --- ----------------------------------- 33.0/400.7 MB 4.9 MB/s eta 0:01:15\n",
      "     --- ----------------------------------- 35.4/400.7 MB 5.1 MB/s eta 0:01:12\n",
      "     --- ----------------------------------- 37.0/400.7 MB 5.2 MB/s eta 0:01:11\n",
      "     --- ----------------------------------- 39.3/400.7 MB 5.3 MB/s eta 0:01:08\n",
      "     --- ----------------------------------- 40.6/400.7 MB 5.3 MB/s eta 0:01:08\n",
      "     ---- ---------------------------------- 41.9/400.7 MB 5.4 MB/s eta 0:01:07\n",
      "     ---- ---------------------------------- 43.8/400.7 MB 5.5 MB/s eta 0:01:06\n",
      "     ---- ---------------------------------- 45.6/400.7 MB 5.5 MB/s eta 0:01:05\n",
      "     ---- ---------------------------------- 48.0/400.7 MB 5.7 MB/s eta 0:01:03\n",
      "     ---- ---------------------------------- 49.3/400.7 MB 5.7 MB/s eta 0:01:02\n",
      "     ----- --------------------------------- 51.6/400.7 MB 5.8 MB/s eta 0:01:01\n",
      "     ----- --------------------------------- 53.5/400.7 MB 5.9 MB/s eta 0:00:59\n",
      "     ----- --------------------------------- 55.3/400.7 MB 5.9 MB/s eta 0:00:59\n",
      "     ----- --------------------------------- 57.4/400.7 MB 6.0 MB/s eta 0:00:57\n",
      "     ----- --------------------------------- 59.0/400.7 MB 6.1 MB/s eta 0:00:57\n",
      "     ----- --------------------------------- 61.3/400.7 MB 6.2 MB/s eta 0:00:56\n",
      "     ------ -------------------------------- 62.9/400.7 MB 6.2 MB/s eta 0:00:55\n",
      "     ------ -------------------------------- 65.3/400.7 MB 6.3 MB/s eta 0:00:54\n",
      "     ------ -------------------------------- 66.6/400.7 MB 6.3 MB/s eta 0:00:54\n",
      "     ------ -------------------------------- 68.7/400.7 MB 6.4 MB/s eta 0:00:53\n",
      "     ------ -------------------------------- 70.8/400.7 MB 6.4 MB/s eta 0:00:52\n",
      "     ------- ------------------------------- 72.9/400.7 MB 6.5 MB/s eta 0:00:51\n",
      "     ------- ------------------------------- 74.7/400.7 MB 6.5 MB/s eta 0:00:50\n",
      "     ------- ------------------------------- 76.0/400.7 MB 6.5 MB/s eta 0:00:50\n",
      "     ------- ------------------------------- 78.1/400.7 MB 6.6 MB/s eta 0:00:50\n",
      "     ------- ------------------------------- 79.7/400.7 MB 6.6 MB/s eta 0:00:49\n",
      "     ------- ------------------------------- 81.3/400.7 MB 6.6 MB/s eta 0:00:49\n",
      "     -------- ------------------------------ 83.1/400.7 MB 6.6 MB/s eta 0:00:48\n",
      "     -------- ------------------------------ 85.7/400.7 MB 6.7 MB/s eta 0:00:47\n",
      "     -------- ------------------------------ 86.8/400.7 MB 6.7 MB/s eta 0:00:47\n",
      "     -------- ------------------------------ 88.3/400.7 MB 6.7 MB/s eta 0:00:47\n",
      "     -------- ------------------------------ 90.4/400.7 MB 6.8 MB/s eta 0:00:46\n",
      "     --------- ----------------------------- 92.8/400.7 MB 6.8 MB/s eta 0:00:46\n",
      "     --------- ----------------------------- 95.2/400.7 MB 6.9 MB/s eta 0:00:45\n",
      "     --------- ----------------------------- 97.3/400.7 MB 6.9 MB/s eta 0:00:44\n",
      "     --------- ----------------------------- 98.8/400.7 MB 6.9 MB/s eta 0:00:44\n",
      "     --------- ---------------------------- 100.7/400.7 MB 7.0 MB/s eta 0:00:44\n",
      "     --------- ---------------------------- 103.5/400.7 MB 7.0 MB/s eta 0:00:43\n",
      "     ---------- --------------------------- 105.6/400.7 MB 7.1 MB/s eta 0:00:42\n",
      "     ---------- --------------------------- 107.7/400.7 MB 7.1 MB/s eta 0:00:42\n",
      "     ---------- --------------------------- 110.1/400.7 MB 7.2 MB/s eta 0:00:41\n",
      "     ---------- --------------------------- 112.5/400.7 MB 7.2 MB/s eta 0:00:40\n",
      "     ---------- --------------------------- 112.7/400.7 MB 7.2 MB/s eta 0:00:40\n",
      "     ---------- --------------------------- 113.8/400.7 MB 7.1 MB/s eta 0:00:41\n",
      "     ----------- -------------------------- 116.1/400.7 MB 7.2 MB/s eta 0:00:40\n",
      "     ----------- -------------------------- 118.2/400.7 MB 7.2 MB/s eta 0:00:40\n",
      "     ----------- -------------------------- 120.6/400.7 MB 7.2 MB/s eta 0:00:39\n",
      "     ----------- -------------------------- 122.4/400.7 MB 7.3 MB/s eta 0:00:39\n",
      "     ----------- -------------------------- 124.5/400.7 MB 7.3 MB/s eta 0:00:38\n",
      "     ------------ ------------------------- 126.9/400.7 MB 7.3 MB/s eta 0:00:38\n",
      "     ------------ ------------------------- 129.0/400.7 MB 7.4 MB/s eta 0:00:37\n",
      "     ------------ ------------------------- 131.3/400.7 MB 7.4 MB/s eta 0:00:37\n",
      "     ------------ ------------------------- 132.4/400.7 MB 7.4 MB/s eta 0:00:37\n",
      "     ------------ ------------------------- 134.2/400.7 MB 7.4 MB/s eta 0:00:37\n",
      "     ------------ ------------------------- 136.3/400.7 MB 7.4 MB/s eta 0:00:36\n",
      "     ------------- ------------------------ 138.1/400.7 MB 7.4 MB/s eta 0:00:36\n",
      "     ------------- ------------------------ 140.2/400.7 MB 7.5 MB/s eta 0:00:35\n",
      "     ------------- ------------------------ 142.6/400.7 MB 7.5 MB/s eta 0:00:35\n",
      "     ------------- ------------------------ 144.7/400.7 MB 7.5 MB/s eta 0:00:35\n",
      "     ------------- ------------------------ 146.8/400.7 MB 7.6 MB/s eta 0:00:34\n",
      "     -------------- ----------------------- 148.9/400.7 MB 7.6 MB/s eta 0:00:34\n",
      "     -------------- ----------------------- 150.2/400.7 MB 7.6 MB/s eta 0:00:34\n",
      "     -------------- ----------------------- 152.3/400.7 MB 7.6 MB/s eta 0:00:33\n",
      "     -------------- ----------------------- 154.4/400.7 MB 7.6 MB/s eta 0:00:33\n",
      "     -------------- ----------------------- 156.5/400.7 MB 7.6 MB/s eta 0:00:32\n",
      "     --------------- ---------------------- 158.3/400.7 MB 7.6 MB/s eta 0:00:32\n",
      "     --------------- ---------------------- 160.4/400.7 MB 7.7 MB/s eta 0:00:32\n",
      "     --------------- ---------------------- 162.5/400.7 MB 7.7 MB/s eta 0:00:31\n",
      "     --------------- ---------------------- 165.2/400.7 MB 7.7 MB/s eta 0:00:31\n",
      "     --------------- ---------------------- 165.2/400.7 MB 7.7 MB/s eta 0:00:31\n",
      "     --------------- ---------------------- 166.7/400.7 MB 7.6 MB/s eta 0:00:31\n",
      "     --------------- ---------------------- 168.0/400.7 MB 7.6 MB/s eta 0:00:31\n",
      "     ---------------- --------------------- 168.8/400.7 MB 7.6 MB/s eta 0:00:31\n",
      "     ---------------- --------------------- 168.8/400.7 MB 7.6 MB/s eta 0:00:31\n",
      "     ---------------- --------------------- 173.0/400.7 MB 7.7 MB/s eta 0:00:30\n",
      "     ---------------- --------------------- 173.0/400.7 MB 7.7 MB/s eta 0:00:30\n",
      "     ---------------- --------------------- 175.4/400.7 MB 7.6 MB/s eta 0:00:30\n",
      "     ---------------- --------------------- 177.2/400.7 MB 7.6 MB/s eta 0:00:30\n",
      "     ----------------- -------------------- 179.3/400.7 MB 7.6 MB/s eta 0:00:30\n",
      "     ----------------- -------------------- 180.9/400.7 MB 7.6 MB/s eta 0:00:29\n",
      "     ----------------- -------------------- 183.0/400.7 MB 7.6 MB/s eta 0:00:29\n",
      "     ----------------- -------------------- 185.1/400.7 MB 7.7 MB/s eta 0:00:29\n",
      "     ----------------- -------------------- 187.2/400.7 MB 7.7 MB/s eta 0:00:28\n",
      "     ----------------- -------------------- 188.5/400.7 MB 7.7 MB/s eta 0:00:28\n",
      "     ------------------ ------------------- 190.3/400.7 MB 7.7 MB/s eta 0:00:28\n",
      "     ------------------ ------------------- 192.4/400.7 MB 7.7 MB/s eta 0:00:28\n",
      "     ------------------ ------------------- 194.2/400.7 MB 7.7 MB/s eta 0:00:27\n",
      "     ------------------ ------------------- 196.6/400.7 MB 7.7 MB/s eta 0:00:27\n",
      "     ------------------ ------------------- 198.7/400.7 MB 7.7 MB/s eta 0:00:27\n",
      "     ------------------- ------------------ 200.5/400.7 MB 7.7 MB/s eta 0:00:26\n",
      "     ------------------- ------------------ 202.4/400.7 MB 7.8 MB/s eta 0:00:26\n",
      "     ------------------- ------------------ 204.7/400.7 MB 7.8 MB/s eta 0:00:26\n",
      "     ------------------- ------------------ 206.8/400.7 MB 7.8 MB/s eta 0:00:25\n",
      "     ------------------- ------------------ 209.2/400.7 MB 7.8 MB/s eta 0:00:25\n",
      "     ------------------- ------------------ 210.5/400.7 MB 7.8 MB/s eta 0:00:25\n",
      "     -------------------- ----------------- 212.6/400.7 MB 7.8 MB/s eta 0:00:25\n",
      "     -------------------- ----------------- 214.2/400.7 MB 7.8 MB/s eta 0:00:24\n",
      "     -------------------- ----------------- 216.3/400.7 MB 7.8 MB/s eta 0:00:24\n",
      "     -------------------- ----------------- 218.1/400.7 MB 7.8 MB/s eta 0:00:24\n",
      "     -------------------- ----------------- 219.9/400.7 MB 7.8 MB/s eta 0:00:24\n",
      "     --------------------- ---------------- 221.8/400.7 MB 7.9 MB/s eta 0:00:23\n",
      "     --------------------- ---------------- 223.6/400.7 MB 7.9 MB/s eta 0:00:23\n",
      "     --------------------- ---------------- 225.2/400.7 MB 7.9 MB/s eta 0:00:23\n",
      "     --------------------- ---------------- 227.3/400.7 MB 7.9 MB/s eta 0:00:23\n",
      "     --------------------- ---------------- 229.1/400.7 MB 7.9 MB/s eta 0:00:22\n",
      "     --------------------- ---------------- 231.2/400.7 MB 7.9 MB/s eta 0:00:22\n",
      "     ---------------------- --------------- 232.8/400.7 MB 7.9 MB/s eta 0:00:22\n",
      "     ---------------------- --------------- 234.9/400.7 MB 7.9 MB/s eta 0:00:21\n",
      "     ---------------------- --------------- 237.0/400.7 MB 7.9 MB/s eta 0:00:21\n",
      "     ---------------------- --------------- 239.3/400.7 MB 8.0 MB/s eta 0:00:21\n",
      "     ---------------------- --------------- 239.9/400.7 MB 8.0 MB/s eta 0:00:21\n",
      "     ---------------------- --------------- 241.4/400.7 MB 8.0 MB/s eta 0:00:20\n",
      "     ----------------------- -------------- 243.0/400.7 MB 8.1 MB/s eta 0:00:20\n",
      "     ----------------------- -------------- 245.1/400.7 MB 8.2 MB/s eta 0:00:20\n",
      "     ----------------------- -------------- 247.5/400.7 MB 8.2 MB/s eta 0:00:19\n",
      "     ----------------------- -------------- 249.6/400.7 MB 8.3 MB/s eta 0:00:19\n",
      "     ----------------------- -------------- 251.1/400.7 MB 8.3 MB/s eta 0:00:18\n",
      "     ------------------------ ------------- 253.5/400.7 MB 8.4 MB/s eta 0:00:18\n",
      "     ------------------------ ------------- 255.3/400.7 MB 8.4 MB/s eta 0:00:18\n",
      "     ------------------------ ------------- 257.4/400.7 MB 8.4 MB/s eta 0:00:17\n",
      "     ------------------------ ------------- 259.3/400.7 MB 8.5 MB/s eta 0:00:17\n",
      "     ------------------------ ------------- 261.4/400.7 MB 8.5 MB/s eta 0:00:17\n",
      "     ------------------------ ------------- 263.2/400.7 MB 8.5 MB/s eta 0:00:17\n",
      "     ------------------------- ------------ 264.2/400.7 MB 8.5 MB/s eta 0:00:17\n",
      "     ------------------------- ------------ 266.1/400.7 MB 8.5 MB/s eta 0:00:16\n",
      "     ------------------------- ------------ 267.9/400.7 MB 8.6 MB/s eta 0:00:16\n",
      "     ------------------------- ------------ 270.0/400.7 MB 8.6 MB/s eta 0:00:16\n",
      "     ------------------------- ------------ 272.4/400.7 MB 8.6 MB/s eta 0:00:15\n",
      "     ------------------------- ------------ 273.2/400.7 MB 8.6 MB/s eta 0:00:15\n",
      "     -------------------------- ----------- 275.3/400.7 MB 8.6 MB/s eta 0:00:15\n",
      "     -------------------------- ----------- 277.1/400.7 MB 8.6 MB/s eta 0:00:15\n",
      "     -------------------------- ----------- 278.9/400.7 MB 8.6 MB/s eta 0:00:15\n",
      "     -------------------------- ----------- 281.0/400.7 MB 8.7 MB/s eta 0:00:14\n",
      "     -------------------------- ----------- 283.1/400.7 MB 8.7 MB/s eta 0:00:14\n",
      "     --------------------------- ---------- 285.0/400.7 MB 8.7 MB/s eta 0:00:14\n",
      "     --------------------------- ---------- 287.0/400.7 MB 8.7 MB/s eta 0:00:14\n",
      "     --------------------------- ---------- 289.1/400.7 MB 8.7 MB/s eta 0:00:13\n",
      "     --------------------------- ---------- 289.4/400.7 MB 8.7 MB/s eta 0:00:13\n",
      "     --------------------------- ---------- 289.4/400.7 MB 8.7 MB/s eta 0:00:13\n",
      "     --------------------------- ---------- 289.4/400.7 MB 8.7 MB/s eta 0:00:13\n",
      "     --------------------------- ---------- 289.4/400.7 MB 8.7 MB/s eta 0:00:13\n",
      "     --------------------------- ---------- 289.4/400.7 MB 8.7 MB/s eta 0:00:13\n",
      "     --------------------------- ---------- 289.4/400.7 MB 8.7 MB/s eta 0:00:13\n",
      "     --------------------------- ---------- 289.4/400.7 MB 8.7 MB/s eta 0:00:13\n",
      "     --------------------------- ---------- 289.4/400.7 MB 8.7 MB/s eta 0:00:13\n",
      "     --------------------------- ---------- 289.4/400.7 MB 8.7 MB/s eta 0:00:13\n",
      "     --------------------------- ---------- 289.4/400.7 MB 8.7 MB/s eta 0:00:13\n",
      "     --------------------------- ---------- 289.4/400.7 MB 8.7 MB/s eta 0:00:13\n",
      "     --------------------------- ---------- 289.4/400.7 MB 8.7 MB/s eta 0:00:13\n",
      "     --------------------------- ---------- 289.4/400.7 MB 8.7 MB/s eta 0:00:13\n",
      "     --------------------------- ---------- 289.4/400.7 MB 8.7 MB/s eta 0:00:13\n",
      "     --------------------------- ---------- 289.4/400.7 MB 8.7 MB/s eta 0:00:13\n",
      "     --------------------------- ---------- 289.4/400.7 MB 8.7 MB/s eta 0:00:13\n",
      "     --------------------------- ---------- 289.4/400.7 MB 8.7 MB/s eta 0:00:13\n",
      "     --------------------------- ---------- 289.4/400.7 MB 8.7 MB/s eta 0:00:13\n",
      "     --------------------------- ---------- 289.4/400.7 MB 8.7 MB/s eta 0:00:13\n",
      "     --------------------------- ---------- 289.4/400.7 MB 8.7 MB/s eta 0:00:13\n",
      "     --------------------------- ---------- 289.4/400.7 MB 8.7 MB/s eta 0:00:13\n",
      "     --------------------------- ---------- 289.4/400.7 MB 8.7 MB/s eta 0:00:13\n",
      "     --------------------------- ---------- 289.4/400.7 MB 8.7 MB/s eta 0:00:13\n",
      "     --------------------------- ---------- 289.4/400.7 MB 8.7 MB/s eta 0:00:13\n",
      "     --------------------------- ---------- 289.4/400.7 MB 8.7 MB/s eta 0:00:13\n",
      "     --------------------------- ---------- 289.4/400.7 MB 8.7 MB/s eta 0:00:13\n",
      "     --------------------------- ---------- 289.4/400.7 MB 8.7 MB/s eta 0:00:13\n",
      "     --------------------------- ---------- 289.4/400.7 MB 8.7 MB/s eta 0:00:13\n",
      "     --------------------------- ---------- 289.4/400.7 MB 8.7 MB/s eta 0:00:13\n",
      "     --------------------------- ---------- 289.4/400.7 MB 8.7 MB/s eta 0:00:13\n",
      "     --------------------------- ---------- 289.4/400.7 MB 8.7 MB/s eta 0:00:13\n",
      "     --------------------------- ---------- 289.4/400.7 MB 8.7 MB/s eta 0:00:13\n",
      "     --------------------------- ---------- 289.4/400.7 MB 8.7 MB/s eta 0:00:13\n",
      "     --------------------------- ---------- 289.4/400.7 MB 8.7 MB/s eta 0:00:13\n",
      "     --------------------------- ---------- 289.4/400.7 MB 8.7 MB/s eta 0:00:13\n",
      "     --------------------------- ---------- 289.4/400.7 MB 8.7 MB/s eta 0:00:13\n",
      "     --------------------------- ---------- 289.4/400.7 MB 8.7 MB/s eta 0:00:13\n",
      "     --------------------------- ---------- 289.4/400.7 MB 8.7 MB/s eta 0:00:13\n",
      "     --------------------------- ---------- 289.4/400.7 MB 8.7 MB/s eta 0:00:13\n",
      "     --------------------------- ---------- 289.4/400.7 MB 8.7 MB/s eta 0:00:13\n",
      "     --------------------------- ---------- 289.4/400.7 MB 8.7 MB/s eta 0:00:13\n",
      "     --------------------------- ---------- 289.4/400.7 MB 8.7 MB/s eta 0:00:13\n",
      "     --------------------------- ---------- 289.4/400.7 MB 8.7 MB/s eta 0:00:13\n",
      "     --------------------------- ---------- 289.4/400.7 MB 8.7 MB/s eta 0:00:13\n",
      "     --------------------------- ---------- 289.4/400.7 MB 8.7 MB/s eta 0:00:13\n",
      "     --------------------------- ---------- 289.4/400.7 MB 8.7 MB/s eta 0:00:13\n",
      "     --------------------------- ---------- 289.4/400.7 MB 8.7 MB/s eta 0:00:13\n",
      "     --------------------------- ---------- 289.4/400.7 MB 8.7 MB/s eta 0:00:13\n",
      "     --------------------------- ---------- 289.4/400.7 MB 8.7 MB/s eta 0:00:13\n",
      "     --------------------------- ---------- 289.4/400.7 MB 8.7 MB/s eta 0:00:13\n",
      "     --------------------------- ---------- 289.4/400.7 MB 8.7 MB/s eta 0:00:13\n",
      "     --------------------------- ---------- 289.4/400.7 MB 8.7 MB/s eta 0:00:13\n",
      "     --------------------------- ---------- 289.4/400.7 MB 8.7 MB/s eta 0:00:13\n",
      "     --------------------------- ---------- 289.4/400.7 MB 8.7 MB/s eta 0:00:13\n",
      "     --------------------------- ---------- 289.4/400.7 MB 8.7 MB/s eta 0:00:13\n",
      "     --------------------------- ---------- 289.4/400.7 MB 8.7 MB/s eta 0:00:13\n",
      "     --------------------------- ---------- 289.4/400.7 MB 8.7 MB/s eta 0:00:13\n",
      "     --------------------------- ---------- 289.4/400.7 MB 8.7 MB/s eta 0:00:13\n",
      "     --------------------------- ---------- 289.4/400.7 MB 8.7 MB/s eta 0:00:13\n",
      "     --------------------------- ---------- 289.4/400.7 MB 8.7 MB/s eta 0:00:13\n",
      "     --------------------------- ---------- 289.4/400.7 MB 8.7 MB/s eta 0:00:13\n",
      "     --------------------------- ---------- 289.4/400.7 MB 8.7 MB/s eta 0:00:13\n",
      "     --------------------------- ---------- 289.4/400.7 MB 8.7 MB/s eta 0:00:13\n",
      "     --------------------------- ---------- 289.4/400.7 MB 8.7 MB/s eta 0:00:13\n",
      "     --------------------------- ---------- 289.4/400.7 MB 8.7 MB/s eta 0:00:13\n",
      "     --------------------------- ---------- 289.4/400.7 MB 8.7 MB/s eta 0:00:13\n",
      "     --------------------------- ---------- 289.4/400.7 MB 8.7 MB/s eta 0:00:13\n",
      "     --------------------------- ---------- 289.4/400.7 MB 8.7 MB/s eta 0:00:13\n",
      "     --------------------------- ---------- 289.4/400.7 MB 8.7 MB/s eta 0:00:13\n",
      "     --------------------------- ---------- 289.4/400.7 MB 8.7 MB/s eta 0:00:13\n",
      "     --------------------------- ---------- 289.4/400.7 MB 8.7 MB/s eta 0:00:13\n"
     ]
    },
    {
     "name": "stderr",
     "output_type": "stream",
     "text": [
      "ERROR: Exception:\n",
      "Traceback (most recent call last):\n",
      "  File \"c:\\Users\\chatt\\AppData\\Local\\Programs\\Python\\Python312\\Lib\\site-packages\\pip\\_vendor\\urllib3\\response.py\", line 438, in _error_catcher\n",
      "    yield\n",
      "  File \"c:\\Users\\chatt\\AppData\\Local\\Programs\\Python\\Python312\\Lib\\site-packages\\pip\\_vendor\\urllib3\\response.py\", line 561, in read\n",
      "    data = self._fp_read(amt) if not fp_closed else b\"\"\n",
      "           ^^^^^^^^^^^^^^^^^^\n",
      "  File \"c:\\Users\\chatt\\AppData\\Local\\Programs\\Python\\Python312\\Lib\\site-packages\\pip\\_vendor\\urllib3\\response.py\", line 527, in _fp_read\n",
      "    return self._fp.read(amt) if amt is not None else self._fp.read()\n",
      "           ^^^^^^^^^^^^^^^^^^\n",
      "  File \"c:\\Users\\chatt\\AppData\\Local\\Programs\\Python\\Python312\\Lib\\site-packages\\pip\\_vendor\\cachecontrol\\filewrapper.py\", line 98, in read\n",
      "    data: bytes = self.__fp.read(amt)\n",
      "                  ^^^^^^^^^^^^^^^^^^^\n",
      "  File \"c:\\Users\\chatt\\AppData\\Local\\Programs\\Python\\Python312\\Lib\\http\\client.py\", line 479, in read\n",
      "    s = self.fp.read(amt)\n",
      "        ^^^^^^^^^^^^^^^^^\n",
      "  File \"c:\\Users\\chatt\\AppData\\Local\\Programs\\Python\\Python312\\Lib\\socket.py\", line 720, in readinto\n",
      "    return self._sock.recv_into(b)\n",
      "           ^^^^^^^^^^^^^^^^^^^^^^^\n",
      "  File \"c:\\Users\\chatt\\AppData\\Local\\Programs\\Python\\Python312\\Lib\\ssl.py\", line 1252, in recv_into\n",
      "    return self.read(nbytes, buffer)\n",
      "           ^^^^^^^^^^^^^^^^^^^^^^^^^\n",
      "  File \"c:\\Users\\chatt\\AppData\\Local\\Programs\\Python\\Python312\\Lib\\ssl.py\", line 1104, in read\n",
      "    return self._sslobj.read(len, buffer)\n",
      "           ^^^^^^^^^^^^^^^^^^^^^^^^^^^^^^\n",
      "TimeoutError: The read operation timed out\n",
      "\n",
      "During handling of the above exception, another exception occurred:\n",
      "\n",
      "Traceback (most recent call last):\n",
      "  File \"c:\\Users\\chatt\\AppData\\Local\\Programs\\Python\\Python312\\Lib\\site-packages\\pip\\_internal\\cli\\base_command.py\", line 105, in _run_wrapper\n",
      "    status = _inner_run()\n",
      "             ^^^^^^^^^^^^\n",
      "  File \"c:\\Users\\chatt\\AppData\\Local\\Programs\\Python\\Python312\\Lib\\site-packages\\pip\\_internal\\cli\\base_command.py\", line 96, in _inner_run\n",
      "    return self.run(options, args)\n",
      "           ^^^^^^^^^^^^^^^^^^^^^^^\n",
      "  File \"c:\\Users\\chatt\\AppData\\Local\\Programs\\Python\\Python312\\Lib\\site-packages\\pip\\_internal\\cli\\req_command.py\", line 67, in wrapper\n",
      "    return func(self, options, args)\n",
      "           ^^^^^^^^^^^^^^^^^^^^^^^^^\n",
      "  File \"c:\\Users\\chatt\\AppData\\Local\\Programs\\Python\\Python312\\Lib\\site-packages\\pip\\_internal\\commands\\install.py\", line 379, in run\n",
      "    requirement_set = resolver.resolve(\n",
      "                      ^^^^^^^^^^^^^^^^^\n",
      "  File \"c:\\Users\\chatt\\AppData\\Local\\Programs\\Python\\Python312\\Lib\\site-packages\\pip\\_internal\\resolution\\resolvelib\\resolver.py\", line 76, in resolve\n",
      "    collected = self.factory.collect_root_requirements(root_reqs)\n",
      "                ^^^^^^^^^^^^^^^^^^^^^^^^^^^^^^^^^^^^^^^^^^^^^^^^^\n",
      "  File \"c:\\Users\\chatt\\AppData\\Local\\Programs\\Python\\Python312\\Lib\\site-packages\\pip\\_internal\\resolution\\resolvelib\\factory.py\", line 545, in collect_root_requirements\n",
      "    reqs = list(\n",
      "           ^^^^^\n",
      "  File \"c:\\Users\\chatt\\AppData\\Local\\Programs\\Python\\Python312\\Lib\\site-packages\\pip\\_internal\\resolution\\resolvelib\\factory.py\", line 501, in _make_requirements_from_install_req\n",
      "    cand = self._make_base_candidate_from_link(\n",
      "           ^^^^^^^^^^^^^^^^^^^^^^^^^^^^^^^^^^^^\n",
      "  File \"c:\\Users\\chatt\\AppData\\Local\\Programs\\Python\\Python312\\Lib\\site-packages\\pip\\_internal\\resolution\\resolvelib\\factory.py\", line 233, in _make_base_candidate_from_link\n",
      "    self._link_candidate_cache[link] = LinkCandidate(\n",
      "                                       ^^^^^^^^^^^^^^\n",
      "  File \"c:\\Users\\chatt\\AppData\\Local\\Programs\\Python\\Python312\\Lib\\site-packages\\pip\\_internal\\resolution\\resolvelib\\candidates.py\", line 304, in __init__\n",
      "    super().__init__(\n",
      "  File \"c:\\Users\\chatt\\AppData\\Local\\Programs\\Python\\Python312\\Lib\\site-packages\\pip\\_internal\\resolution\\resolvelib\\candidates.py\", line 159, in __init__\n",
      "    self.dist = self._prepare()\n",
      "                ^^^^^^^^^^^^^^^\n",
      "  File \"c:\\Users\\chatt\\AppData\\Local\\Programs\\Python\\Python312\\Lib\\site-packages\\pip\\_internal\\resolution\\resolvelib\\candidates.py\", line 236, in _prepare\n",
      "    dist = self._prepare_distribution()\n",
      "           ^^^^^^^^^^^^^^^^^^^^^^^^^^^^\n",
      "  File \"c:\\Users\\chatt\\AppData\\Local\\Programs\\Python\\Python312\\Lib\\site-packages\\pip\\_internal\\resolution\\resolvelib\\candidates.py\", line 315, in _prepare_distribution\n",
      "    return preparer.prepare_linked_requirement(self._ireq, parallel_builds=True)\n",
      "           ^^^^^^^^^^^^^^^^^^^^^^^^^^^^^^^^^^^^^^^^^^^^^^^^^^^^^^^^^^^^^^^^^^^^^\n",
      "  File \"c:\\Users\\chatt\\AppData\\Local\\Programs\\Python\\Python312\\Lib\\site-packages\\pip\\_internal\\operations\\prepare.py\", line 527, in prepare_linked_requirement\n",
      "    return self._prepare_linked_requirement(req, parallel_builds)\n",
      "           ^^^^^^^^^^^^^^^^^^^^^^^^^^^^^^^^^^^^^^^^^^^^^^^^^^^^^^\n",
      "  File \"c:\\Users\\chatt\\AppData\\Local\\Programs\\Python\\Python312\\Lib\\site-packages\\pip\\_internal\\operations\\prepare.py\", line 598, in _prepare_linked_requirement\n",
      "    local_file = unpack_url(\n",
      "                 ^^^^^^^^^^^\n",
      "  File \"c:\\Users\\chatt\\AppData\\Local\\Programs\\Python\\Python312\\Lib\\site-packages\\pip\\_internal\\operations\\prepare.py\", line 170, in unpack_url\n",
      "    file = get_http_url(\n",
      "           ^^^^^^^^^^^^^\n",
      "  File \"c:\\Users\\chatt\\AppData\\Local\\Programs\\Python\\Python312\\Lib\\site-packages\\pip\\_internal\\operations\\prepare.py\", line 111, in get_http_url\n",
      "    from_path, content_type = download(link, temp_dir.path)\n",
      "                              ^^^^^^^^^^^^^^^^^^^^^^^^^^^^^\n",
      "  File \"c:\\Users\\chatt\\AppData\\Local\\Programs\\Python\\Python312\\Lib\\site-packages\\pip\\_internal\\network\\download.py\", line 148, in __call__\n",
      "    for chunk in chunks:\n",
      "                 ^^^^^^\n",
      "  File \"c:\\Users\\chatt\\AppData\\Local\\Programs\\Python\\Python312\\Lib\\site-packages\\pip\\_internal\\cli\\progress_bars.py\", line 55, in _rich_progress_bar\n",
      "    for chunk in iterable:\n",
      "                 ^^^^^^^^\n",
      "  File \"c:\\Users\\chatt\\AppData\\Local\\Programs\\Python\\Python312\\Lib\\site-packages\\pip\\_internal\\network\\utils.py\", line 65, in response_chunks\n",
      "    for chunk in response.raw.stream(\n",
      "                 ^^^^^^^^^^^^^^^^^^^^\n",
      "  File \"c:\\Users\\chatt\\AppData\\Local\\Programs\\Python\\Python312\\Lib\\site-packages\\pip\\_vendor\\urllib3\\response.py\", line 622, in stream\n",
      "    data = self.read(amt=amt, decode_content=decode_content)\n",
      "           ^^^^^^^^^^^^^^^^^^^^^^^^^^^^^^^^^^^^^^^^^^^^^^^^^\n",
      "  File \"c:\\Users\\chatt\\AppData\\Local\\Programs\\Python\\Python312\\Lib\\site-packages\\pip\\_vendor\\urllib3\\response.py\", line 560, in read\n",
      "    with self._error_catcher():\n",
      "  File \"c:\\Users\\chatt\\AppData\\Local\\Programs\\Python\\Python312\\Lib\\contextlib.py\", line 158, in __exit__\n",
      "    self.gen.throw(value)\n",
      "  File \"c:\\Users\\chatt\\AppData\\Local\\Programs\\Python\\Python312\\Lib\\site-packages\\pip\\_vendor\\urllib3\\response.py\", line 443, in _error_catcher\n",
      "    raise ReadTimeoutError(self._pool, None, \"Read timed out.\")\n",
      "pip._vendor.urllib3.exceptions.ReadTimeoutError: HTTPSConnectionPool(host='objects.githubusercontent.com', port=443): Read timed out.\n"
     ]
    }
   ],
   "source": [
    "! python -m spacy download en_core_web_lg"
   ]
  },
  {
   "cell_type": "code",
   "execution_count": 54,
   "metadata": {},
   "outputs": [],
   "source": [
    "import spacy\n",
    "nlp = spacy.load('en_core_web_lg')\n"
   ]
  },
  {
   "cell_type": "code",
   "execution_count": 55,
   "metadata": {},
   "outputs": [
    {
     "name": "stdout",
     "output_type": "stream",
     "text": [
      "Requirement already satisfied: pip in c:\\users\\chatt\\appdata\\local\\programs\\python\\python312\\lib\\site-packages (24.3.1)\n"
     ]
    }
   ],
   "source": [
    "! python -m pip install --upgrade pip\n"
   ]
  },
  {
   "cell_type": "code",
   "execution_count": 56,
   "metadata": {},
   "outputs": [],
   "source": [
    "text = nlp('My name is Ayon Chatterjee')"
   ]
  },
  {
   "cell_type": "code",
   "execution_count": 57,
   "metadata": {},
   "outputs": [
    {
     "data": {
      "text/plain": [
       "My name is Ayon Chatterjee"
      ]
     },
     "execution_count": 57,
     "metadata": {},
     "output_type": "execute_result"
    }
   ],
   "source": [
    "text"
   ]
  },
  {
   "cell_type": "markdown",
   "metadata": {},
   "source": [
    "1.  Tokenization"
   ]
  },
  {
   "cell_type": "code",
   "execution_count": 58,
   "metadata": {},
   "outputs": [
    {
     "name": "stdout",
     "output_type": "stream",
     "text": [
      "My\n",
      "name\n",
      "is\n",
      "Ayon\n",
      "Chatterjee\n"
     ]
    }
   ],
   "source": [
    "for token in text:\n",
    "    print(token)"
   ]
  },
  {
   "cell_type": "code",
   "execution_count": 59,
   "metadata": {},
   "outputs": [],
   "source": [
    "text = nlp('The cost of Iphone in U.K is 699$')"
   ]
  },
  {
   "cell_type": "code",
   "execution_count": 60,
   "metadata": {},
   "outputs": [
    {
     "name": "stdout",
     "output_type": "stream",
     "text": [
      "The\n",
      "cost\n",
      "of\n",
      "Iphone\n",
      "in\n",
      "U.K\n",
      "is\n",
      "699\n",
      "$\n"
     ]
    }
   ],
   "source": [
    "for token in text:\n",
    "    print(token)"
   ]
  },
  {
   "cell_type": "markdown",
   "metadata": {},
   "source": [
    "2. Parts of Speech(POS)"
   ]
  },
  {
   "cell_type": "code",
   "execution_count": 61,
   "metadata": {},
   "outputs": [
    {
     "name": "stdout",
     "output_type": "stream",
     "text": [
      "The 90\n",
      "cost 92\n",
      "of 85\n",
      "Iphone 96\n",
      "in 85\n",
      "U.K 96\n",
      "is 87\n",
      "699 93\n",
      "$ 99\n"
     ]
    }
   ],
   "source": [
    "for token in text:\n",
    "    print(token , token.pos)"
   ]
  },
  {
   "cell_type": "code",
   "execution_count": 62,
   "metadata": {},
   "outputs": [
    {
     "name": "stdout",
     "output_type": "stream",
     "text": [
      "The DET\n",
      "cost NOUN\n",
      "of ADP\n",
      "Iphone PROPN\n",
      "in ADP\n",
      "U.K PROPN\n",
      "is AUX\n",
      "699 NUM\n",
      "$ SYM\n"
     ]
    }
   ],
   "source": [
    "for token in text:\n",
    "    print(token , token.pos_)"
   ]
  },
  {
   "cell_type": "markdown",
   "metadata": {},
   "source": [
    "3 . Sentence Tokenization"
   ]
  },
  {
   "cell_type": "code",
   "execution_count": 63,
   "metadata": {},
   "outputs": [],
   "source": [
    "text = nlp('This is sentence one.This is last one.Lets study now')"
   ]
  },
  {
   "cell_type": "code",
   "execution_count": 64,
   "metadata": {},
   "outputs": [
    {
     "name": "stdout",
     "output_type": "stream",
     "text": [
      "This is sentence one.\n",
      "This is last one.\n",
      "Lets study now\n"
     ]
    }
   ],
   "source": [
    "for sent in text.sents:\n",
    "    print(sent)"
   ]
  },
  {
   "cell_type": "code",
   "execution_count": 65,
   "metadata": {},
   "outputs": [
    {
     "name": "stdout",
     "output_type": "stream",
     "text": [
      "This\n",
      "is\n",
      "sentence\n",
      "one\n",
      ".\n",
      "This\n",
      "is\n",
      "last\n",
      "one\n",
      ".\n",
      "Lets\n",
      "study\n",
      "now\n"
     ]
    }
   ],
   "source": [
    "for sent in text:\n",
    "    print(sent)"
   ]
  },
  {
   "cell_type": "code",
   "execution_count": 66,
   "metadata": {},
   "outputs": [
    {
     "name": "stdout",
     "output_type": "stream",
     "text": [
      "['This is sentence one.', 'This is the last one.', \"Let's study now.\"]\n"
     ]
    }
   ],
   "source": [
    "import nltk\n",
    "from nltk.tokenize import sent_tokenize , word_tokenize\n",
    "\n",
    "sent = \"This is sentence one. This is the last one. Let's study now.\"\n",
    "print(sent_tokenize(sent))\n"
   ]
  },
  {
   "cell_type": "code",
   "execution_count": 67,
   "metadata": {},
   "outputs": [
    {
     "name": "stdout",
     "output_type": "stream",
     "text": [
      "['This', 'is', 'sentence', 'one', '.', 'This', 'is', 'the', 'last', 'one', '.', 'Let', \"'s\", 'study', 'now', '.']\n"
     ]
    }
   ],
   "source": [
    "print(word_tokenize(sent))"
   ]
  },
  {
   "cell_type": "code",
   "execution_count": 69,
   "metadata": {},
   "outputs": [
    {
     "name": "stdout",
     "output_type": "stream",
     "text": [
      "Requirement already satisfied: spacy in c:\\users\\chatt\\appdata\\local\\programs\\python\\python312\\lib\\site-packages (3.8.3)\n",
      "Requirement already satisfied: spacy-legacy<3.1.0,>=3.0.11 in c:\\users\\chatt\\appdata\\local\\programs\\python\\python312\\lib\\site-packages (from spacy) (3.0.12)\n",
      "Requirement already satisfied: spacy-loggers<2.0.0,>=1.0.0 in c:\\users\\chatt\\appdata\\local\\programs\\python\\python312\\lib\\site-packages (from spacy) (1.0.5)\n",
      "Requirement already satisfied: murmurhash<1.1.0,>=0.28.0 in c:\\users\\chatt\\appdata\\local\\programs\\python\\python312\\lib\\site-packages (from spacy) (1.0.11)\n",
      "Requirement already satisfied: cymem<2.1.0,>=2.0.2 in c:\\users\\chatt\\appdata\\local\\programs\\python\\python312\\lib\\site-packages (from spacy) (2.0.10)\n",
      "Requirement already satisfied: preshed<3.1.0,>=3.0.2 in c:\\users\\chatt\\appdata\\local\\programs\\python\\python312\\lib\\site-packages (from spacy) (3.0.9)\n",
      "Requirement already satisfied: thinc<8.4.0,>=8.3.0 in c:\\users\\chatt\\appdata\\local\\programs\\python\\python312\\lib\\site-packages (from spacy) (8.3.3)\n",
      "Requirement already satisfied: wasabi<1.2.0,>=0.9.1 in c:\\users\\chatt\\appdata\\local\\programs\\python\\python312\\lib\\site-packages (from spacy) (1.1.3)\n",
      "Requirement already satisfied: srsly<3.0.0,>=2.4.3 in c:\\users\\chatt\\appdata\\local\\programs\\python\\python312\\lib\\site-packages (from spacy) (2.5.0)\n",
      "Requirement already satisfied: catalogue<2.1.0,>=2.0.6 in c:\\users\\chatt\\appdata\\local\\programs\\python\\python312\\lib\\site-packages (from spacy) (2.0.10)\n",
      "Requirement already satisfied: weasel<0.5.0,>=0.1.0 in c:\\users\\chatt\\appdata\\local\\programs\\python\\python312\\lib\\site-packages (from spacy) (0.4.1)\n",
      "Requirement already satisfied: typer<1.0.0,>=0.3.0 in c:\\users\\chatt\\appdata\\local\\programs\\python\\python312\\lib\\site-packages (from spacy) (0.15.1)\n",
      "Requirement already satisfied: tqdm<5.0.0,>=4.38.0 in c:\\users\\chatt\\appdata\\local\\programs\\python\\python312\\lib\\site-packages (from spacy) (4.66.5)\n",
      "Requirement already satisfied: numpy>=1.19.0 in c:\\users\\chatt\\appdata\\local\\programs\\python\\python312\\lib\\site-packages (from spacy) (1.26.4)\n",
      "Requirement already satisfied: requests<3.0.0,>=2.13.0 in c:\\users\\chatt\\appdata\\local\\programs\\python\\python312\\lib\\site-packages (from spacy) (2.32.3)\n",
      "Requirement already satisfied: pydantic!=1.8,!=1.8.1,<3.0.0,>=1.7.4 in c:\\users\\chatt\\appdata\\local\\programs\\python\\python312\\lib\\site-packages (from spacy) (2.10.4)\n",
      "Requirement already satisfied: jinja2 in c:\\users\\chatt\\appdata\\local\\programs\\python\\python312\\lib\\site-packages (from spacy) (3.1.4)\n",
      "Requirement already satisfied: setuptools in c:\\users\\chatt\\appdata\\local\\programs\\python\\python312\\lib\\site-packages (from spacy) (74.1.0)\n",
      "Requirement already satisfied: packaging>=20.0 in c:\\users\\chatt\\appdata\\local\\programs\\python\\python312\\lib\\site-packages (from spacy) (24.1)\n",
      "Requirement already satisfied: langcodes<4.0.0,>=3.2.0 in c:\\users\\chatt\\appdata\\local\\programs\\python\\python312\\lib\\site-packages (from spacy) (3.5.0)\n",
      "Requirement already satisfied: language-data>=1.2 in c:\\users\\chatt\\appdata\\local\\programs\\python\\python312\\lib\\site-packages (from langcodes<4.0.0,>=3.2.0->spacy) (1.3.0)\n",
      "Requirement already satisfied: annotated-types>=0.6.0 in c:\\users\\chatt\\appdata\\local\\programs\\python\\python312\\lib\\site-packages (from pydantic!=1.8,!=1.8.1,<3.0.0,>=1.7.4->spacy) (0.7.0)\n",
      "Requirement already satisfied: pydantic-core==2.27.2 in c:\\users\\chatt\\appdata\\local\\programs\\python\\python312\\lib\\site-packages (from pydantic!=1.8,!=1.8.1,<3.0.0,>=1.7.4->spacy) (2.27.2)\n",
      "Requirement already satisfied: typing-extensions>=4.12.2 in c:\\users\\chatt\\appdata\\local\\programs\\python\\python312\\lib\\site-packages (from pydantic!=1.8,!=1.8.1,<3.0.0,>=1.7.4->spacy) (4.12.2)\n",
      "Requirement already satisfied: charset-normalizer<4,>=2 in c:\\users\\chatt\\appdata\\local\\programs\\python\\python312\\lib\\site-packages (from requests<3.0.0,>=2.13.0->spacy) (3.3.2)\n",
      "Requirement already satisfied: idna<4,>=2.5 in c:\\users\\chatt\\appdata\\local\\programs\\python\\python312\\lib\\site-packages (from requests<3.0.0,>=2.13.0->spacy) (3.8)\n",
      "Requirement already satisfied: urllib3<3,>=1.21.1 in c:\\users\\chatt\\appdata\\local\\programs\\python\\python312\\lib\\site-packages (from requests<3.0.0,>=2.13.0->spacy) (2.2.2)\n",
      "Requirement already satisfied: certifi>=2017.4.17 in c:\\users\\chatt\\appdata\\local\\programs\\python\\python312\\lib\\site-packages (from requests<3.0.0,>=2.13.0->spacy) (2024.8.30)\n",
      "Requirement already satisfied: blis<1.2.0,>=1.1.0 in c:\\users\\chatt\\appdata\\local\\programs\\python\\python312\\lib\\site-packages (from thinc<8.4.0,>=8.3.0->spacy) (1.1.0)\n",
      "Requirement already satisfied: confection<1.0.0,>=0.0.1 in c:\\users\\chatt\\appdata\\local\\programs\\python\\python312\\lib\\site-packages (from thinc<8.4.0,>=8.3.0->spacy) (0.1.5)\n",
      "Requirement already satisfied: colorama in c:\\users\\chatt\\appdata\\local\\programs\\python\\python312\\lib\\site-packages (from tqdm<5.0.0,>=4.38.0->spacy) (0.4.6)\n",
      "Requirement already satisfied: click>=8.0.0 in c:\\users\\chatt\\appdata\\local\\programs\\python\\python312\\lib\\site-packages (from typer<1.0.0,>=0.3.0->spacy) (8.1.7)\n",
      "Requirement already satisfied: shellingham>=1.3.0 in c:\\users\\chatt\\appdata\\local\\programs\\python\\python312\\lib\\site-packages (from typer<1.0.0,>=0.3.0->spacy) (1.5.4)\n",
      "Requirement already satisfied: rich>=10.11.0 in c:\\users\\chatt\\appdata\\local\\programs\\python\\python312\\lib\\site-packages (from typer<1.0.0,>=0.3.0->spacy) (13.8.1)\n",
      "Requirement already satisfied: cloudpathlib<1.0.0,>=0.7.0 in c:\\users\\chatt\\appdata\\local\\programs\\python\\python312\\lib\\site-packages (from weasel<0.5.0,>=0.1.0->spacy) (0.20.0)\n",
      "Requirement already satisfied: smart-open<8.0.0,>=5.2.1 in c:\\users\\chatt\\appdata\\local\\programs\\python\\python312\\lib\\site-packages (from weasel<0.5.0,>=0.1.0->spacy) (7.1.0)\n",
      "Requirement already satisfied: MarkupSafe>=2.0 in c:\\users\\chatt\\appdata\\local\\programs\\python\\python312\\lib\\site-packages (from jinja2->spacy) (2.1.5)\n",
      "Requirement already satisfied: marisa-trie>=1.1.0 in c:\\users\\chatt\\appdata\\local\\programs\\python\\python312\\lib\\site-packages (from language-data>=1.2->langcodes<4.0.0,>=3.2.0->spacy) (1.2.1)\n",
      "Requirement already satisfied: markdown-it-py>=2.2.0 in c:\\users\\chatt\\appdata\\local\\programs\\python\\python312\\lib\\site-packages (from rich>=10.11.0->typer<1.0.0,>=0.3.0->spacy) (3.0.0)\n",
      "Requirement already satisfied: pygments<3.0.0,>=2.13.0 in c:\\users\\chatt\\appdata\\local\\programs\\python\\python312\\lib\\site-packages (from rich>=10.11.0->typer<1.0.0,>=0.3.0->spacy) (2.18.0)\n",
      "Requirement already satisfied: wrapt in c:\\users\\chatt\\appdata\\local\\programs\\python\\python312\\lib\\site-packages (from smart-open<8.0.0,>=5.2.1->weasel<0.5.0,>=0.1.0->spacy) (1.16.0)\n",
      "Requirement already satisfied: mdurl~=0.1 in c:\\users\\chatt\\appdata\\local\\programs\\python\\python312\\lib\\site-packages (from markdown-it-py>=2.2.0->rich>=10.11.0->typer<1.0.0,>=0.3.0->spacy) (0.1.2)\n",
      "Requirement already satisfied: nltk in c:\\users\\chatt\\appdata\\local\\programs\\python\\python312\\lib\\site-packages (3.9.1)\n",
      "Requirement already satisfied: click in c:\\users\\chatt\\appdata\\local\\programs\\python\\python312\\lib\\site-packages (from nltk) (8.1.7)\n",
      "Requirement already satisfied: joblib in c:\\users\\chatt\\appdata\\local\\programs\\python\\python312\\lib\\site-packages (from nltk) (1.4.2)\n",
      "Requirement already satisfied: regex>=2021.8.3 in c:\\users\\chatt\\appdata\\local\\programs\\python\\python312\\lib\\site-packages (from nltk) (2024.9.11)\n",
      "Requirement already satisfied: tqdm in c:\\users\\chatt\\appdata\\local\\programs\\python\\python312\\lib\\site-packages (from nltk) (4.66.5)\n",
      "Requirement already satisfied: colorama in c:\\users\\chatt\\appdata\\local\\programs\\python\\python312\\lib\\site-packages (from click->nltk) (0.4.6)\n",
      "Collecting en-core-web-sm==3.8.0\n",
      "  Downloading https://github.com/explosion/spacy-models/releases/download/en_core_web_sm-3.8.0/en_core_web_sm-3.8.0-py3-none-any.whl (12.8 MB)\n",
      "     ---------------------------------------- 0.0/12.8 MB ? eta -:--:--\n",
      "     ---------------------------------------- 0.0/12.8 MB ? eta -:--:--\n",
      "     ---------------------------------------- 0.0/12.8 MB ? eta -:--:--\n",
      "     ---------------------------------------- 0.0/12.8 MB ? eta -:--:--\n",
      "     - -------------------------------------- 0.5/12.8 MB 1.4 MB/s eta 0:00:09\n",
      "     -- ------------------------------------- 0.8/12.8 MB 1.5 MB/s eta 0:00:08\n",
      "     ---- ----------------------------------- 1.3/12.8 MB 1.8 MB/s eta 0:00:07\n",
      "     ---- ----------------------------------- 1.6/12.8 MB 1.7 MB/s eta 0:00:07\n",
      "     ------ --------------------------------- 2.1/12.8 MB 1.9 MB/s eta 0:00:06\n",
      "     -------- ------------------------------- 2.6/12.8 MB 2.0 MB/s eta 0:00:06\n",
      "     ---------- ----------------------------- 3.4/12.8 MB 2.2 MB/s eta 0:00:05\n",
      "     ------------- -------------------------- 4.2/12.8 MB 2.4 MB/s eta 0:00:04\n",
      "     --------------- ------------------------ 5.0/12.8 MB 2.5 MB/s eta 0:00:04\n",
      "     ------------------ --------------------- 6.0/12.8 MB 2.8 MB/s eta 0:00:03\n",
      "     --------------------- ------------------ 6.8/12.8 MB 2.9 MB/s eta 0:00:03\n",
      "     ------------------------- -------------- 8.1/12.8 MB 3.1 MB/s eta 0:00:02\n",
      "     ----------------------------- ---------- 9.4/12.8 MB 3.3 MB/s eta 0:00:02\n",
      "     --------------------------------- ------ 10.7/12.8 MB 3.6 MB/s eta 0:00:01\n",
      "     ------------------------------------ --- 11.8/12.8 MB 3.6 MB/s eta 0:00:01\n",
      "     ---------------------------------------- 12.8/12.8 MB 3.8 MB/s eta 0:00:00\n",
      "Installing collected packages: en-core-web-sm\n",
      "Successfully installed en-core-web-sm-3.8.0\n",
      "\u001b[38;5;2m✔ Download and installation successful\u001b[0m\n",
      "You can now load the package via spacy.load('en_core_web_sm')\n"
     ]
    }
   ],
   "source": [
    "# Implementing NER in python\n",
    "\n",
    "# Importing libraries\n",
    "! pip install spacy\n",
    "! pip install nltk\n",
    "! python -m spacy download en_core_web_sm\n",
    "\n",
    "import pandas as pd\n",
    "import spacy\n",
    "import requests \n",
    "from bs4 import BeautifulSoup\n",
    "nlp = spacy.load(\"en_core_web_sm\")\n",
    "pd.set_option(\"display.max_rows\" , 200)\n",
    "\n",
    "\n"
   ]
  },
  {
   "cell_type": "code",
   "execution_count": 70,
   "metadata": {},
   "outputs": [
    {
     "name": "stdout",
     "output_type": "stream",
     "text": [
      "Trinamool Congress 0 18 ORG\n",
      "Mahua Moitra 26 38 PERSON\n",
      "the Supreme Court 49 66 ORG\n",
      "Moitra 157 163 NORP\n",
      "Parliament 184 194 ORG\n",
      "last week 195 204 DATE\n",
      "the Ethics Committee 211 231 ORG\n",
      "Darshan Hiranandani 373 392 PERSON\n"
     ]
    }
   ],
   "source": [
    "content = \"Trinamool Congress leader Mahua Moitra has moved the Supreme Court against her expulsion from the Lok Sabha over the cash-for-query allegations against her. Moitra was ousted from the Parliament last week after the Ethics Committee of the Lok Sabha found her guilty of jeopardising national security by sharing her parliamentary portal's login credentials with businessman Darshan Hiranandani.\"\n",
    "\n",
    "doc = nlp(content)\n",
    "\n",
    "for ent in doc.ents:\n",
    "    print(ent.text  , ent.start_char , ent.end_char , ent.label_)"
   ]
  },
  {
   "cell_type": "code",
   "execution_count": 71,
   "metadata": {},
   "outputs": [
    {
     "data": {
      "text/html": [
       "<span class=\"tex2jax_ignore\"><div class=\"entities\" style=\"line-height: 2.5; direction: ltr\">\n",
       "<mark class=\"entity\" style=\"background: #7aecec; padding: 0.45em 0.6em; margin: 0 0.25em; line-height: 1; border-radius: 0.35em;\">\n",
       "    Trinamool Congress\n",
       "    <span style=\"font-size: 0.8em; font-weight: bold; line-height: 1; border-radius: 0.35em; vertical-align: middle; margin-left: 0.5rem\">ORG</span>\n",
       "</mark>\n",
       " leader \n",
       "<mark class=\"entity\" style=\"background: #aa9cfc; padding: 0.45em 0.6em; margin: 0 0.25em; line-height: 1; border-radius: 0.35em;\">\n",
       "    Mahua Moitra\n",
       "    <span style=\"font-size: 0.8em; font-weight: bold; line-height: 1; border-radius: 0.35em; vertical-align: middle; margin-left: 0.5rem\">PERSON</span>\n",
       "</mark>\n",
       " has moved \n",
       "<mark class=\"entity\" style=\"background: #7aecec; padding: 0.45em 0.6em; margin: 0 0.25em; line-height: 1; border-radius: 0.35em;\">\n",
       "    the Supreme Court\n",
       "    <span style=\"font-size: 0.8em; font-weight: bold; line-height: 1; border-radius: 0.35em; vertical-align: middle; margin-left: 0.5rem\">ORG</span>\n",
       "</mark>\n",
       " against her expulsion from the Lok Sabha over the cash-for-query allegations against her. \n",
       "<mark class=\"entity\" style=\"background: #c887fb; padding: 0.45em 0.6em; margin: 0 0.25em; line-height: 1; border-radius: 0.35em;\">\n",
       "    Moitra\n",
       "    <span style=\"font-size: 0.8em; font-weight: bold; line-height: 1; border-radius: 0.35em; vertical-align: middle; margin-left: 0.5rem\">NORP</span>\n",
       "</mark>\n",
       " was ousted from the \n",
       "<mark class=\"entity\" style=\"background: #7aecec; padding: 0.45em 0.6em; margin: 0 0.25em; line-height: 1; border-radius: 0.35em;\">\n",
       "    Parliament\n",
       "    <span style=\"font-size: 0.8em; font-weight: bold; line-height: 1; border-radius: 0.35em; vertical-align: middle; margin-left: 0.5rem\">ORG</span>\n",
       "</mark>\n",
       " \n",
       "<mark class=\"entity\" style=\"background: #bfe1d9; padding: 0.45em 0.6em; margin: 0 0.25em; line-height: 1; border-radius: 0.35em;\">\n",
       "    last week\n",
       "    <span style=\"font-size: 0.8em; font-weight: bold; line-height: 1; border-radius: 0.35em; vertical-align: middle; margin-left: 0.5rem\">DATE</span>\n",
       "</mark>\n",
       " after \n",
       "<mark class=\"entity\" style=\"background: #7aecec; padding: 0.45em 0.6em; margin: 0 0.25em; line-height: 1; border-radius: 0.35em;\">\n",
       "    the Ethics Committee\n",
       "    <span style=\"font-size: 0.8em; font-weight: bold; line-height: 1; border-radius: 0.35em; vertical-align: middle; margin-left: 0.5rem\">ORG</span>\n",
       "</mark>\n",
       " of the Lok Sabha found her guilty of jeopardising national security by sharing her parliamentary portal's login credentials with businessman \n",
       "<mark class=\"entity\" style=\"background: #aa9cfc; padding: 0.45em 0.6em; margin: 0 0.25em; line-height: 1; border-radius: 0.35em;\">\n",
       "    Darshan Hiranandani\n",
       "    <span style=\"font-size: 0.8em; font-weight: bold; line-height: 1; border-radius: 0.35em; vertical-align: middle; margin-left: 0.5rem\">PERSON</span>\n",
       "</mark>\n",
       ".</div></span>"
      ],
      "text/plain": [
       "<IPython.core.display.HTML object>"
      ]
     },
     "metadata": {},
     "output_type": "display_data"
    }
   ],
   "source": [
    "from spacy import displacy\n",
    "displacy.render(doc , style= \"ent\")"
   ]
  },
  {
   "cell_type": "code",
   "execution_count": 72,
   "metadata": {},
   "outputs": [
    {
     "data": {
      "text/html": [
       "<div>\n",
       "<style scoped>\n",
       "    .dataframe tbody tr th:only-of-type {\n",
       "        vertical-align: middle;\n",
       "    }\n",
       "\n",
       "    .dataframe tbody tr th {\n",
       "        vertical-align: top;\n",
       "    }\n",
       "\n",
       "    .dataframe thead th {\n",
       "        text-align: right;\n",
       "    }\n",
       "</style>\n",
       "<table border=\"1\" class=\"dataframe\">\n",
       "  <thead>\n",
       "    <tr style=\"text-align: right;\">\n",
       "      <th></th>\n",
       "      <th>text</th>\n",
       "      <th>type</th>\n",
       "      <th>lemma</th>\n",
       "    </tr>\n",
       "  </thead>\n",
       "  <tbody>\n",
       "    <tr>\n",
       "      <th>0</th>\n",
       "      <td>Trinamool Congress</td>\n",
       "      <td>ORG</td>\n",
       "      <td>Trinamool Congress</td>\n",
       "    </tr>\n",
       "    <tr>\n",
       "      <th>1</th>\n",
       "      <td>Mahua Moitra</td>\n",
       "      <td>PERSON</td>\n",
       "      <td>Mahua Moitra</td>\n",
       "    </tr>\n",
       "    <tr>\n",
       "      <th>2</th>\n",
       "      <td>the Supreme Court</td>\n",
       "      <td>ORG</td>\n",
       "      <td>the Supreme Court</td>\n",
       "    </tr>\n",
       "    <tr>\n",
       "      <th>3</th>\n",
       "      <td>Moitra</td>\n",
       "      <td>NORP</td>\n",
       "      <td>Moitra</td>\n",
       "    </tr>\n",
       "    <tr>\n",
       "      <th>4</th>\n",
       "      <td>Parliament</td>\n",
       "      <td>ORG</td>\n",
       "      <td>Parliament</td>\n",
       "    </tr>\n",
       "    <tr>\n",
       "      <th>5</th>\n",
       "      <td>last week</td>\n",
       "      <td>DATE</td>\n",
       "      <td>last week</td>\n",
       "    </tr>\n",
       "    <tr>\n",
       "      <th>6</th>\n",
       "      <td>the Ethics Committee</td>\n",
       "      <td>ORG</td>\n",
       "      <td>the Ethics Committee</td>\n",
       "    </tr>\n",
       "    <tr>\n",
       "      <th>7</th>\n",
       "      <td>Darshan Hiranandani</td>\n",
       "      <td>PERSON</td>\n",
       "      <td>Darshan Hiranandani</td>\n",
       "    </tr>\n",
       "  </tbody>\n",
       "</table>\n",
       "</div>"
      ],
      "text/plain": [
       "                   text    type                 lemma\n",
       "0    Trinamool Congress     ORG    Trinamool Congress\n",
       "1          Mahua Moitra  PERSON          Mahua Moitra\n",
       "2     the Supreme Court     ORG     the Supreme Court\n",
       "3                Moitra    NORP                Moitra\n",
       "4            Parliament     ORG            Parliament\n",
       "5             last week    DATE             last week\n",
       "6  the Ethics Committee     ORG  the Ethics Committee\n",
       "7   Darshan Hiranandani  PERSON   Darshan Hiranandani"
      ]
     },
     "execution_count": 72,
     "metadata": {},
     "output_type": "execute_result"
    }
   ],
   "source": [
    "# Converting it into dataframe \n",
    "\n",
    "entities = [(ent.text , ent.label_ , ent.lemma_) for ent in doc.ents]\n",
    "\n",
    "df = pd.DataFrame(entities , columns= ['text' , 'type' , 'lemma'])\n",
    "df "
   ]
  }
 ],
 "metadata": {
  "kernelspec": {
   "display_name": "Python 3",
   "language": "python",
   "name": "python3"
  },
  "language_info": {
   "codemirror_mode": {
    "name": "ipython",
    "version": 3
   },
   "file_extension": ".py",
   "mimetype": "text/x-python",
   "name": "python",
   "nbconvert_exporter": "python",
   "pygments_lexer": "ipython3",
   "version": "3.12.5"
  }
 },
 "nbformat": 4,
 "nbformat_minor": 2
}
